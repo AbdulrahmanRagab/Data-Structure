{
 "cells": [
  {
   "cell_type": "markdown",
   "id": "82431d06",
   "metadata": {},
   "source": [
    "## Queue by linkedlist"
   ]
  },
  {
   "cell_type": "code",
   "execution_count": 2,
   "id": "40086026",
   "metadata": {},
   "outputs": [],
   "source": [
    "class Node:\n",
    "    def __init__(self, data):\n",
    "        self.data = data\n",
    "        self.next = None\n",
    "\n",
    "class Queue:\n",
    "    def __init__(self):\n",
    "        self.front = None\n",
    "        self.rear = None\n",
    "\n",
    "    def is_empty(self):\n",
    "        \"\"\"Check if the queue is empty.\"\"\"\n",
    "        return self.front is None\n",
    "\n",
    "    def enqueue(self, data):\n",
    "        \"\"\"Add an element to the rear of the queue.\"\"\"\n",
    "        new_node = Node(data)\n",
    "        if self.rear is None:  # If the queue is empty\n",
    "            self.front = self.rear = new_node\n",
    "        else:\n",
    "            self.rear.next = new_node\n",
    "            self.rear = new_node\n",
    "\n",
    "    def dequeue(self):\n",
    "        \"\"\"Remove and return the front element of the queue.\"\"\"\n",
    "        if self.is_empty():\n",
    "            print(\"Queue is empty. Cannot dequeue.\")\n",
    "            return None\n",
    "        removed_data = self.front.data\n",
    "        self.front = self.front.next\n",
    "        if self.front is None:  # If the queue is now empty\n",
    "            self.rear = None\n",
    "        return removed_data\n",
    "\n",
    "    def peek(self):\n",
    "        \"\"\"Return the front element without removing it.\"\"\"\n",
    "        if self.is_empty():\n",
    "            print(\"Queue is empty. Cannot peek.\")\n",
    "            return None\n",
    "        return self.front.data\n",
    "\n",
    "    def display(self):\n",
    "        \"\"\"Display all elements in the queue.\"\"\"\n",
    "        if self.is_empty():\n",
    "            print(\"Queue is empty.\")\n",
    "            return\n",
    "        current = self.front\n",
    "        while current:\n",
    "            print(current.data, end=\" -> \")\n",
    "            current = current.next\n",
    "        print(\"None\")\n"
   ]
  },
  {
   "cell_type": "code",
   "execution_count": 3,
   "id": "c395586e",
   "metadata": {},
   "outputs": [
    {
     "name": "stdout",
     "output_type": "stream",
     "text": [
      "Queue after enqueuing 10, 20, 30:\n",
      "10 -> 20 -> 30 -> None\n",
      "Dequeued element: 10\n",
      "Queue after dequeue:\n",
      "20 -> 30 -> None\n",
      "Front element (peek): 20\n",
      "Queue after enqueuing 40:\n",
      "20 -> 30 -> 40 -> None\n"
     ]
    }
   ],
   "source": [
    "# Example Usage\n",
    "queue = Queue()\n",
    "queue.enqueue(10)\n",
    "queue.enqueue(20)\n",
    "queue.enqueue(30)\n",
    "print(\"Queue after enqueuing 10, 20, 30:\")\n",
    "queue.display()\n",
    "\n",
    "print(\"Dequeued element:\", queue.dequeue())\n",
    "print(\"Queue after dequeue:\")\n",
    "queue.display()\n",
    "\n",
    "print(\"Front element (peek):\", queue.peek())\n",
    "queue.enqueue(40)\n",
    "print(\"Queue after enqueuing 40:\")\n",
    "queue.display()\n"
   ]
  },
  {
   "cell_type": "markdown",
   "id": "17ac3b11",
   "metadata": {},
   "source": [
    "### Queue by collections and queue modules"
   ]
  },
  {
   "cell_type": "code",
   "execution_count": 1,
   "id": "3ab09568",
   "metadata": {},
   "outputs": [
    {
     "name": "stdout",
     "output_type": "stream",
     "text": [
      "After appending to the right: [1, 2, 3]\n",
      "After appending to the left: [-1, 0, 1, 2, 3]\n",
      "Popped from the right: 3\n",
      "Deque after popping from the right: [-1, 0, 1, 2]\n",
      "Popped from the left: -1\n",
      "Deque after popping from the left: [0, 1, 2]\n"
     ]
    }
   ],
   "source": [
    "from collections import deque\n",
    "\n",
    "# Create a deque\n",
    "dq = deque()\n",
    "\n",
    "# Append elements to the right\n",
    "dq.append(1)\n",
    "dq.append(2)\n",
    "dq.append(3)\n",
    "print(\"After appending to the right:\", list(dq))\n",
    "\n",
    "# Append elements to the left\n",
    "dq.appendleft(0)\n",
    "dq.appendleft(-1)\n",
    "print(\"After appending to the left:\", list(dq))\n",
    "\n",
    "# Pop elements from the right\n",
    "right_pop = dq.pop()\n",
    "print(\"Popped from the right:\", right_pop)\n",
    "print(\"Deque after popping from the right:\", list(dq))\n",
    "\n",
    "# Pop elements from the left\n",
    "left_pop = dq.popleft()\n",
    "print(\"Popped from the left:\", left_pop)\n",
    "print(\"Deque after popping from the left:\", list(dq))\n"
   ]
  },
  {
   "cell_type": "code",
   "execution_count": 3,
   "id": "b971c182",
   "metadata": {},
   "outputs": [
    {
     "name": "stdout",
     "output_type": "stream",
     "text": [
      "Is the queue empty? True\n",
      "Added elements: 10, 20, 30\n",
      "Size of the queue: 3\n",
      "First element (peek): 10\n",
      "Removed from queue: 10\n",
      "Removed from queue: 20\n",
      "Removed from queue: 30\n",
      "Is the queue empty now? True\n"
     ]
    }
   ],
   "source": [
    "from queue import Queue\n",
    "\n",
    "# Create a Queue\n",
    "q = Queue()\n",
    "\n",
    "# Check if the queue is empty\n",
    "print(\"Is the queue empty?\", q.empty())\n",
    "\n",
    "# Add elements to the queue\n",
    "q.put(10)\n",
    "q.put(20)\n",
    "q.put(30)\n",
    "print(\"Added elements: 10, 20, 30\")\n",
    "\n",
    "# Check the size of the queue\n",
    "print(\"Size of the queue:\", q.qsize())\n",
    "\n",
    "# Access the first element without removing it (using an indirect method)\n",
    "if not q.empty():\n",
    "    first_element = q.queue[0]  # This accesses the internal queue list (not recommended for production use)\n",
    "    print(\"First element (peek):\", first_element)\n",
    "\n",
    "# Remove elements from the queue (FIFO)\n",
    "while not q.empty():\n",
    "    removed_element = q.get()\n",
    "    print(\"Removed from queue:\", removed_element)\n",
    "\n",
    "# Check if the queue is empty after removal\n",
    "print(\"Is the queue empty now?\", q.empty())\n"
   ]
  },
  {
   "cell_type": "code",
   "execution_count": null,
   "id": "59971389",
   "metadata": {},
   "outputs": [],
   "source": []
  }
 ],
 "metadata": {
  "kernelspec": {
   "display_name": "Python 3 (ipykernel)",
   "language": "python",
   "name": "python3"
  },
  "language_info": {
   "codemirror_mode": {
    "name": "ipython",
    "version": 3
   },
   "file_extension": ".py",
   "mimetype": "text/x-python",
   "name": "python",
   "nbconvert_exporter": "python",
   "pygments_lexer": "ipython3",
   "version": "3.9.12"
  }
 },
 "nbformat": 4,
 "nbformat_minor": 5
}

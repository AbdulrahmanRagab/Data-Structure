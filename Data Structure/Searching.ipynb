{
 "cells": [
  {
   "cell_type": "markdown",
   "id": "1ecc50de",
   "metadata": {},
   "source": [
    "### Linear Search"
   ]
  },
  {
   "cell_type": "code",
   "execution_count": 12,
   "id": "b37f5d24",
   "metadata": {},
   "outputs": [],
   "source": [
    "def search(unordered_list, term):\n",
    "    for i, item in enumerate(unordered_list):\n",
    "        if term == unordered_list[i]:\n",
    "            return i\n",
    "    return None"
   ]
  },
  {
   "cell_type": "code",
   "execution_count": 15,
   "id": "5f6f0858",
   "metadata": {},
   "outputs": [
    {
     "data": {
      "text/plain": [
       "0"
      ]
     },
     "execution_count": 15,
     "metadata": {},
     "output_type": "execute_result"
    }
   ],
   "source": [
    "list1 = [10,17,5,9,61]\n",
    "search_term = 10\n",
    "index_position1 = search(list1, search_term)\n",
    "index_position1"
   ]
  },
  {
   "cell_type": "code",
   "execution_count": 14,
   "id": "f8b20d1d",
   "metadata": {},
   "outputs": [
    {
     "name": "stdout",
     "output_type": "stream",
     "text": [
      "10 found at position 0\n"
     ]
    }
   ],
   "source": [
    "if index_position1 is None:\n",
    "    print(\"{} not found\".format(search_term))\n",
    "else:\n",
    "    print(\"{} found at position {}\".format(search_term, index_position1))\n"
   ]
  },
  {
   "cell_type": "markdown",
   "id": "cc9b4702",
   "metadata": {},
   "source": [
    "### Binary Search"
   ]
  },
  {
   "cell_type": "code",
   "execution_count": 16,
   "id": "df00fb60",
   "metadata": {},
   "outputs": [],
   "source": [
    "def binary_search_iterative(ordered_list, term):\n",
    "    size_of_list = len(ordered_list) - 1\n",
    "    index_of_first_element = 0\n",
    "    index_of_last_element = size_of_list\n",
    "\n",
    "    while index_of_first_element <= index_of_last_element:\n",
    "        mid_point = (index_of_first_element + index_of_last_element) // 2  # Use integer division\n",
    "        if ordered_list[mid_point] == term:\n",
    "            return mid_point\n",
    "        if term > ordered_list[mid_point]:\n",
    "            index_of_first_element = mid_point + 1\n",
    "        else:\n",
    "            index_of_last_element = mid_point - 1\n",
    "\n",
    "    return None  # Return None if the element is not found"
   ]
  },
  {
   "cell_type": "code",
   "execution_count": 17,
   "id": "6c766df2",
   "metadata": {},
   "outputs": [
    {
     "name": "stdout",
     "output_type": "stream",
     "text": [
      "The data item 10 is found at position 0\n"
     ]
    }
   ],
   "source": [
    "list1 = [10, 30, 100, 120, 500]\n",
    "search_term = 10\n",
    "index_position1 = binary_search_iterative(list1, search_term)\n",
    "if index_position1 is None:\n",
    "    print(\"The data item {} is not found\".format(search_term))\n",
    "else:\n",
    "    print(\"The data item {} is found at position {}\".format(search_term, index_position1))\n"
   ]
  },
  {
   "cell_type": "markdown",
   "id": "acbc61d5",
   "metadata": {},
   "source": [
    "### Binary Search Recursive"
   ]
  },
  {
   "cell_type": "code",
   "execution_count": 18,
   "id": "832d52d9",
   "metadata": {},
   "outputs": [],
   "source": [
    "def binary_search_recursive(ordered_list, term, low, high):\n",
    "    if low > high:\n",
    "        return None  # Base case: element not found\n",
    "\n",
    "    mid = (low + high) // 2  # Calculate the middle index\n",
    "\n",
    "    if ordered_list[mid] == term:\n",
    "        return mid  # Element found\n",
    "    elif term > ordered_list[mid]:\n",
    "        return binary_search_recursive(ordered_list, term, mid + 1, high)  # Search in the right half\n",
    "    else:\n",
    "        return binary_search_recursive(ordered_list, term, low, mid - 1)  # Search in the left half\n"
   ]
  },
  {
   "cell_type": "code",
   "execution_count": 19,
   "id": "2400a2e8",
   "metadata": {},
   "outputs": [
    {
     "name": "stdout",
     "output_type": "stream",
     "text": [
      "The data item 10 is found at position 0\n"
     ]
    }
   ],
   "source": [
    "# List and search term\n",
    "list1 = [10, 30, 100, 120, 500]\n",
    "search_term = 10\n",
    "\n",
    "# Call the recursive binary search function\n",
    "index_position1 = binary_search_recursive(list1, search_term, 0, len(list1) - 1)\n",
    "\n",
    "# Output the result\n",
    "if index_position1 is None:\n",
    "    print(\"The data item {} is not found\".format(search_term))\n",
    "else:\n",
    "    print(\"The data item {} is found at position {}\".format(search_term, index_position1))\n"
   ]
  },
  {
   "cell_type": "code",
   "execution_count": null,
   "id": "ef50f3e8",
   "metadata": {},
   "outputs": [],
   "source": []
  }
 ],
 "metadata": {
  "kernelspec": {
   "display_name": "Python 3 (ipykernel)",
   "language": "python",
   "name": "python3"
  },
  "language_info": {
   "codemirror_mode": {
    "name": "ipython",
    "version": 3
   },
   "file_extension": ".py",
   "mimetype": "text/x-python",
   "name": "python",
   "nbconvert_exporter": "python",
   "pygments_lexer": "ipython3",
   "version": "3.9.12"
  }
 },
 "nbformat": 4,
 "nbformat_minor": 5
}

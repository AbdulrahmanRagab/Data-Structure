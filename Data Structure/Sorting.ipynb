{
 "cells": [
  {
   "cell_type": "markdown",
   "id": "746fae64",
   "metadata": {},
   "source": [
    "### Bubble Sort"
   ]
  },
  {
   "cell_type": "code",
   "execution_count": 11,
   "id": "691e1c2e",
   "metadata": {},
   "outputs": [],
   "source": [
    "def bubble_sort(unordered_list):\n",
    "    iteration_number = len(unordered_list) - 1\n",
    "    for i in range(iteration_number, 0, -1):\n",
    "        for j in range(i):\n",
    "            if unordered_list[j] > unordered_list[j + 1]:\n",
    "                temp = unordered_list[j]\n",
    "                unordered_list[j] = unordered_list[j + 1]\n",
    "                unordered_list[j + 1] = temp\n",
    "    print(unordered_list)\n"
   ]
  },
  {
   "cell_type": "code",
   "execution_count": 12,
   "id": "e146caba",
   "metadata": {},
   "outputs": [
    {
     "name": "stdout",
     "output_type": "stream",
     "text": [
      "[1, 2, 3, 4, 5]\n"
     ]
    }
   ],
   "source": [
    "l1 = [5,4,1,3,2]\n",
    "bubble_sort(l1)"
   ]
  },
  {
   "cell_type": "markdown",
   "id": "ea36d784",
   "metadata": {},
   "source": [
    "### Insertion Sort"
   ]
  },
  {
   "cell_type": "code",
   "execution_count": 19,
   "id": "dfb8309a",
   "metadata": {},
   "outputs": [],
   "source": [
    "def insertion_sort(unsorted_list):\n",
    "    for i in range(1, len(unsorted_list)):\n",
    "        search_index = i\n",
    "        value = unsorted_list[i]\n",
    "        while search_index > 0 and unsorted_list[search_index - 1] > value:\n",
    "            unsorted_list[search_index] = unsorted_list[search_index - 1]\n",
    "            search_index -= 1\n",
    "        unsorted_list[search_index] = value\n",
    "    print(unsorted_list)"
   ]
  },
  {
   "cell_type": "code",
   "execution_count": 20,
   "id": "2ca03560",
   "metadata": {},
   "outputs": [
    {
     "name": "stdout",
     "output_type": "stream",
     "text": [
      "[2, 3, 5, 7]\n"
     ]
    }
   ],
   "source": [
    "l2 = [7, 3, 5, 2]\n",
    "insertion_sort(l2)"
   ]
  },
  {
   "cell_type": "code",
   "execution_count": null,
   "id": "f796ff7d",
   "metadata": {},
   "outputs": [],
   "source": [
    "Detailed Trace\n",
    "Initial State\n",
    "unsorted_list = [7, 3, 5, 2]\n",
    "Pass 1 (index = 1)\n",
    "Variables:\n",
    "\n",
    "index = 1\n",
    "search_index = 1\n",
    "insert_value = unsorted_list[index] = 3\n",
    "Inner While Loop:\n",
    "\n",
    "Condition: search_index > 0 and unsorted_list[search_index - 1] > insert_value\n",
    "unsorted_list[0] = 7 and insert_value = 3\n",
    "7 > 3: True\n",
    "Action:\n",
    "\n",
    "Shift unsorted_list[search_index - 1] to unsorted_list[search_index].\n",
    "unsorted_list[1] = unsorted_list[0] = 7\n",
    "unsorted_list = [7, 7, 5, 2]\n",
    "Decrement search_index: search_index = 0\n",
    "Exit While Loop:\n",
    "\n",
    "Now, search_index = 0, so the condition search_index > 0 is False.\n",
    "Insert insert_value:\n",
    "\n",
    "Place insert_value (3) at unsorted_list[search_index].\n",
    "unsorted_list[0] = 3\n",
    "unsorted_list = [3, 7, 5, 2]\n",
    "Pass 2 (index = 2)\n",
    "Variables:\n",
    "\n",
    "index = 2\n",
    "search_index = 2\n",
    "insert_value = unsorted_list[index] = 5\n",
    "Inner While Loop:\n",
    "\n",
    "Condition: search_index > 0 and unsorted_list[search_index - 1] > insert_value\n",
    "unsorted_list[1] = 7 and insert_value = 5\n",
    "7 > 5: True\n",
    "Action:\n",
    "\n",
    "Shift unsorted_list[search_index - 1] to unsorted_list[search_index].\n",
    "unsorted_list[2] = unsorted_list[1] = 7\n",
    "unsorted_list = [3, 7, 7, 2]\n",
    "Decrement search_index: search_index = 1\n",
    "Inner While Loop Check:\n",
    "\n",
    "Condition: search_index > 0 and unsorted_list[search_index - 1] > insert_value\n",
    "unsorted_list[0] = 3 and insert_value = 5\n",
    "3 > 5: False\n",
    "Exit While Loop:\n",
    "\n",
    "The condition is now False.\n",
    "Insert insert_value:\n",
    "\n",
    "Place insert_value (5) at unsorted_list[search_index].\n",
    "unsorted_list[1] = 5\n",
    "unsorted_list = [3, 5, 7, 2]"
   ]
  },
  {
   "cell_type": "markdown",
   "id": "1bc96976",
   "metadata": {},
   "source": [
    "### Selection Sort"
   ]
  },
  {
   "cell_type": "code",
   "execution_count": 4,
   "id": "94a476c2",
   "metadata": {},
   "outputs": [],
   "source": [
    "def selection_sort(unsorted_list): \n",
    "    size_of_list = len(unsorted_list) \n",
    "    for i in range(size_of_list): \n",
    "        small = i  # Initially set small to i\n",
    "        for j in range(i+1, size_of_list):  # Loop through remaining elements\n",
    "            if unsorted_list[j] < unsorted_list[small]:  # Compare elements\n",
    "                small = j  # Update small if a smaller element is found\n",
    "        # Swap elements\n",
    "        temp = unsorted_list[i]\n",
    "        unsorted_list[i] = unsorted_list[small]\n",
    "        unsorted_list[small] = temp\n",
    "    print(unsorted_list)"
   ]
  },
  {
   "cell_type": "code",
   "execution_count": 5,
   "id": "a584e64e",
   "metadata": {},
   "outputs": [
    {
     "name": "stdout",
     "output_type": "stream",
     "text": [
      "[11, 12, 22, 25, 64]\n"
     ]
    }
   ],
   "source": [
    "unsorted_list = [64, 25, 12, 22, 11]\n",
    "selection_sort(unsorted_list)"
   ]
  },
  {
   "cell_type": "markdown",
   "id": "2ebe2d1c",
   "metadata": {},
   "source": [
    "### Code tracing"
   ]
  },
  {
   "cell_type": "markdown",
   "id": "082a1750",
   "metadata": {},
   "source": [
    "Step-by-Step Execution\n",
    "First Iteration (i = 0):\n",
    "\n",
    "small = 0 (set to the first element, 64).\n",
    "Inner loop:\n",
    "j = 1: unsorted_list[1] = 25 < unsorted_list[0] = 64, so update small = 1.\n",
    "j = 2: unsorted_list[2] = 12 < unsorted_list[1] = 25, so update small = 2.\n",
    "j = 3: unsorted_list[3] = 22 > unsorted_list[2] = 12, no change.\n",
    "j = 4: unsorted_list[4] = 11 < unsorted_list[2] = 12, so update small = 4.\n",
    "Swap unsorted_list[0] and unsorted_list[4]:\n",
    "Temp = unsorted_list[0] = 64.\n",
    "unsorted_list[0] = unsorted_list[4] = 11.\n",
    "unsorted_list[4] = Temp = 64.\n",
    "List after swap: [11, 25, 12, 22, 64].\n",
    "Second Iteration (i = 1):\n",
    "\n",
    "small = 1 (set to 25).\n",
    "Inner loop:\n",
    "j = 2: unsorted_list[2] = 12 < unsorted_list[1] = 25, so update small = 2.\n",
    "j = 3: unsorted_list[3] = 22 > unsorted_list[2] = 12, no change.\n",
    "j = 4: unsorted_list[4] = 64 > unsorted_list[2] = 12, no change.\n",
    "Swap unsorted_list[1] and unsorted_list[2]:\n",
    "Temp = unsorted_list[1] = 25.\n",
    "unsorted_list[1] = unsorted_list[2] = 12.\n",
    "unsorted_list[2] = Temp = 25.\n",
    "List after swap: [11, 12, 25, 22, 64].\n",
    "Third Iteration (i = 2):\n",
    "\n",
    "small = 2 (set to 25).\n",
    "Inner loop:\n",
    "j = 3: unsorted_list[3] = 22 < unsorted_list[2] = 25, so update small = 3.\n",
    "j = 4: unsorted_list[4] = 64 > unsorted_list[3] = 22, no change.\n",
    "Swap unsorted_list[2] and unsorted_list[3]:\n",
    "Temp = unsorted_list[2] = 25.\n",
    "unsorted_list[2] = unsorted_list[3] = 22.\n",
    "unsorted_list[3] = Temp = 25.\n",
    "List after swap: [11, 12, 22, 25, 64].\n",
    "Fourth Iteration (i = 3):\n",
    "\n",
    "small = 3 (set to 25).\n",
    "Inner loop:\n",
    "j = 4: unsorted_list[4] = 64 > unsorted_list[3] = 25, no change.\n",
    "No swap needed as small = 3.\n",
    "List remains: [11, 12, 22, 25, 64].\n",
    "Fifth Iteration (i = 4):\n",
    "\n",
    "small = 4 (set to 64).\n",
    "No inner loop to iterate through since i = 4 is the last index.\n",
    "No swap needed, list remains: [11, 12, 22, 25, 64]."
   ]
  },
  {
   "cell_type": "markdown",
   "id": "08ac44bc",
   "metadata": {},
   "source": [
    "### Merge Sort"
   ]
  },
  {
   "cell_type": "markdown",
   "id": "545275e8",
   "metadata": {},
   "source": [
    "![Merge Sort](mergesort.jpg)"
   ]
  },
  {
   "cell_type": "code",
   "execution_count": 6,
   "id": "a5de236f",
   "metadata": {},
   "outputs": [],
   "source": [
    "def merge_sort(arr):\n",
    "    if len(arr) > 1:\n",
    "        mid = len(arr) // 2\n",
    "        left_half = arr[:mid]\n",
    "        right_half = arr[mid:]\n",
    "\n",
    "        # Recursive calls to sort each half\n",
    "        merge_sort(left_half)\n",
    "        merge_sort(right_half)\n",
    "\n",
    "        # Merge the sorted halves\n",
    "        i = j = k = 0  # Pointers for left, right, and merged arrays\n",
    "\n",
    "        while i < len(left_half) and j < len(right_half):\n",
    "            if left_half[i] < right_half[j]:\n",
    "                arr[k] = left_half[i]\n",
    "                i += 1\n",
    "            else:\n",
    "                arr[k] = right_half[j]\n",
    "                j += 1\n",
    "            k += 1\n",
    "\n",
    "        # Collect remaining elements (if any)\n",
    "        while i < len(left_half):\n",
    "            arr[k] = left_half[i]\n",
    "            i += 1\n",
    "            k += 1\n",
    "\n",
    "        while j < len(right_half):\n",
    "            arr[k] = right_half[j]\n",
    "            j += 1\n",
    "            k += 1"
   ]
  },
  {
   "cell_type": "code",
   "execution_count": 7,
   "id": "bc8736af",
   "metadata": {
    "scrolled": true
   },
   "outputs": [
    {
     "name": "stdout",
     "output_type": "stream",
     "text": [
      "Sorted array: [3, 9, 10, 27, 38, 43, 82]\n"
     ]
    }
   ],
   "source": [
    "# Test the code\n",
    "arr = [38, 27, 43, 3, 9, 82, 10]\n",
    "merge_sort(arr)\n",
    "print(\"Sorted array:\", arr)"
   ]
  },
  {
   "cell_type": "markdown",
   "id": "02618713",
   "metadata": {},
   "source": [
    "### Qtick Sort"
   ]
  },
  {
   "cell_type": "code",
   "execution_count": 1,
   "id": "0bb75589",
   "metadata": {},
   "outputs": [],
   "source": [
    "# Quick Sort Function\n",
    "def quick_sort(arr):\n",
    "    if len(arr) <= 1:  # Base case: Array of 0 or 1 element is already sorted\n",
    "        return arr\n",
    "\n",
    "    pivot = arr[len(arr) // 2]  # Choosing the middle element as the pivot\n",
    "    left = [x for x in arr if x < pivot]  # Elements less than the pivot\n",
    "    middle = [x for x in arr if x == pivot]  # Elements equal to the pivot\n",
    "    right = [x for x in arr if x > pivot]  # Elements greater than the pivot\n",
    "\n",
    "    return quick_sort(left) + middle + quick_sort(right)  # Combine sorted parts\n"
   ]
  },
  {
   "cell_type": "code",
   "execution_count": 2,
   "id": "c49666ff",
   "metadata": {},
   "outputs": [
    {
     "name": "stdout",
     "output_type": "stream",
     "text": [
      "Original Array: [10, 7, 8, 9, 1, 5]\n",
      "Sorted Array: [1, 5, 7, 8, 9, 10]\n"
     ]
    }
   ],
   "source": [
    "array = [10, 7, 8, 9, 1, 5]\n",
    "print(\"Original Array:\", array)\n",
    "sorted_array = quick_sort(array)\n",
    "print(\"Sorted Array:\", sorted_array)"
   ]
  },
  {
   "cell_type": "markdown",
   "id": "a4013676",
   "metadata": {},
   "source": [
    "### Bucket Sort"
   ]
  },
  {
   "cell_type": "code",
   "execution_count": 6,
   "id": "44c313ba",
   "metadata": {},
   "outputs": [],
   "source": [
    "def bucket_sort(arr):\n",
    "    # Find the minimum and maximum values in the array\n",
    "    min_value = min(arr)\n",
    "    max_value = max(arr)\n",
    "    \n",
    "    # Calculate the number of buckets based on the range of values\n",
    "    bucket_count = len(arr)\n",
    "    range_of_values = max_value - min_value\n",
    "    bucket_size = range_of_values // bucket_count + 1  # Size of each bucket\n",
    "    \n",
    "    # Create an empty list of buckets\n",
    "    buckets = [[] for _ in range(bucket_count)]\n",
    "    \n",
    "    # Step 1: Distribute elements into buckets\n",
    "    for num in arr:\n",
    "        index = (num - min_value) // bucket_size  # Map the number to a bucket index\n",
    "        buckets[index].append(num)\n",
    "    \n",
    "    # Step 2: Sort each bucket\n",
    "    for i in range(bucket_count):\n",
    "        buckets[i].sort()  # Sorting each individual bucket\n",
    "    \n",
    "    # Step 3: Concatenate all buckets into a single list\n",
    "    sorted_arr = []\n",
    "    for bucket in buckets:\n",
    "        sorted_arr.extend(bucket)  # Add elements from each bucket to the result\n",
    "    \n",
    "    return sorted_arr\n",
    "\n"
   ]
  },
  {
   "cell_type": "code",
   "execution_count": 7,
   "id": "d6044d60",
   "metadata": {},
   "outputs": [
    {
     "name": "stdout",
     "output_type": "stream",
     "text": [
      "Sorted Array: [12, 32, 37, 42, 53, 91, 94]\n"
     ]
    }
   ],
   "source": [
    "\n",
    "# Example usage\n",
    "arr = [42, 32, 53, 12, 94, 37, 91]\n",
    "sorted_arr = bucket_sort(arr)\n",
    "print(\"Sorted Array:\", sorted_arr)"
   ]
  },
  {
   "cell_type": "code",
   "execution_count": null,
   "id": "e15128bf",
   "metadata": {},
   "outputs": [],
   "source": []
  }
 ],
 "metadata": {
  "kernelspec": {
   "display_name": "Python 3 (ipykernel)",
   "language": "python",
   "name": "python3"
  },
  "language_info": {
   "codemirror_mode": {
    "name": "ipython",
    "version": 3
   },
   "file_extension": ".py",
   "mimetype": "text/x-python",
   "name": "python",
   "nbconvert_exporter": "python",
   "pygments_lexer": "ipython3",
   "version": "3.9.12"
  }
 },
 "nbformat": 4,
 "nbformat_minor": 5
}

{
 "cells": [
  {
   "cell_type": "markdown",
   "id": "7e1e2ee7",
   "metadata": {},
   "source": [
    "### implementaion stack"
   ]
  },
  {
   "cell_type": "code",
   "execution_count": 30,
   "id": "cd9321cb",
   "metadata": {},
   "outputs": [],
   "source": [
    "size = 3\n",
    "data = [0] * size\n",
    "top = -1"
   ]
  },
  {
   "cell_type": "code",
   "execution_count": 2,
   "id": "008a299d",
   "metadata": {},
   "outputs": [],
   "source": [
    "def is_full():\n",
    "    global top\n",
    "    return top >= size - 1  # Return True if the stack is full\n",
    "\n",
    "def is_empty():\n",
    "    global top\n",
    "    return top == -1  # Return True if the stack is empty\n",
    "\n",
    "def print_d():\n",
    "    if is_empty():\n",
    "        return \"stack is empty\"\n",
    "    return data[:top + 1]  # Return elements up to the top of the stack\n",
    "\n",
    "def push(item):\n",
    "    global top\n",
    "    if is_full():\n",
    "        return \"stack overflow\"\n",
    "    top += 1\n",
    "    data[top] = item\n",
    "    return \"item pushed\""
   ]
  },
  {
   "cell_type": "code",
   "execution_count": 3,
   "id": "0ed18c35",
   "metadata": {},
   "outputs": [
    {
     "name": "stdout",
     "output_type": "stream",
     "text": [
      "item pushed\n",
      "item pushed\n",
      "item pushed\n",
      "stack overflow\n",
      "[5, 10, 15]\n"
     ]
    }
   ],
   "source": [
    "print(push(5))    # Output: \"item pushed\"\n",
    "print(push(10))   # Output: \"item pushed\"\n",
    "print(push(15))   # Output: \"item pushed\"\n",
    "print(push(20))   # Output: \"stack overflow\"\n",
    "\n",
    "print(print_d())  # Output: [5, 10, 15]"
   ]
  },
  {
   "cell_type": "markdown",
   "id": "7fcd2868",
   "metadata": {},
   "source": [
    "### implementaion stack using class"
   ]
  },
  {
   "cell_type": "code",
   "execution_count": 4,
   "id": "ed3ebe6f",
   "metadata": {},
   "outputs": [],
   "source": [
    "class Stack:\n",
    "    def __init__(self, size):\n",
    "        self.size = size\n",
    "        self.data = [0] * size\n",
    "        self.top = -1\n",
    "\n",
    "    def is_full(self):\n",
    "        return self.top >= self.size - 1  # Return True if the stack is full\n",
    "\n",
    "    def is_empty(self):\n",
    "        return self.top == -1  # Return True if the stack is empty\n",
    "\n",
    "    def push(self, item):\n",
    "        if self.is_full():\n",
    "            return \"stack overflow\"\n",
    "        self.top += 1\n",
    "        self.data[self.top] = item\n",
    "        return \"item pushed\"\n",
    "    \n",
    "    def pop(self):\n",
    "        if self.is_empty():\n",
    "            return \"stack underflow\"\n",
    "        popped_item = self.data[self.top]\n",
    "        self.top -= 1\n",
    "        return popped_item\n",
    "\n",
    "    def peek(self):\n",
    "        if self.is_empty():\n",
    "            return \"stack is empty\"\n",
    "        return self.data[self.top]\n",
    "\n",
    "\n",
    "    def print_d(self):\n",
    "        if self.is_empty():\n",
    "            return \"stack is empty\"\n",
    "        return self.data[:self.top + 1]  # Return elements up to the top of the stack\n"
   ]
  },
  {
   "cell_type": "code",
   "execution_count": 5,
   "id": "b844d1d4",
   "metadata": {},
   "outputs": [],
   "source": [
    "s = Stack(3)"
   ]
  },
  {
   "cell_type": "code",
   "execution_count": 6,
   "id": "2666a56d",
   "metadata": {},
   "outputs": [
    {
     "data": {
      "text/plain": [
       "'item pushed'"
      ]
     },
     "execution_count": 6,
     "metadata": {},
     "output_type": "execute_result"
    }
   ],
   "source": [
    "s.push(1)\n",
    "s.push(2)\n",
    "s.push(3)"
   ]
  },
  {
   "cell_type": "code",
   "execution_count": 7,
   "id": "9790c186",
   "metadata": {},
   "outputs": [
    {
     "data": {
      "text/plain": [
       "'stack overflow'"
      ]
     },
     "execution_count": 7,
     "metadata": {},
     "output_type": "execute_result"
    }
   ],
   "source": [
    "s.push(4)"
   ]
  },
  {
   "cell_type": "code",
   "execution_count": 8,
   "id": "a7997582",
   "metadata": {},
   "outputs": [
    {
     "data": {
      "text/plain": [
       "[1, 2, 3]"
      ]
     },
     "execution_count": 8,
     "metadata": {},
     "output_type": "execute_result"
    }
   ],
   "source": [
    "s.print_d()"
   ]
  },
  {
   "cell_type": "code",
   "execution_count": 11,
   "id": "a85ff6f3",
   "metadata": {},
   "outputs": [
    {
     "data": {
      "text/plain": [
       "2"
      ]
     },
     "execution_count": 11,
     "metadata": {},
     "output_type": "execute_result"
    }
   ],
   "source": [
    "s.pop()"
   ]
  },
  {
   "cell_type": "code",
   "execution_count": 12,
   "id": "79cd45e8",
   "metadata": {},
   "outputs": [
    {
     "data": {
      "text/plain": [
       "[1]"
      ]
     },
     "execution_count": 12,
     "metadata": {},
     "output_type": "execute_result"
    }
   ],
   "source": [
    "s.print_d()"
   ]
  },
  {
   "cell_type": "code",
   "execution_count": 13,
   "id": "380c8475",
   "metadata": {},
   "outputs": [
    {
     "data": {
      "text/plain": [
       "'stack underflow'"
      ]
     },
     "execution_count": 13,
     "metadata": {},
     "output_type": "execute_result"
    }
   ],
   "source": [
    "s.pop()\n",
    "s.pop()"
   ]
  },
  {
   "cell_type": "code",
   "execution_count": 14,
   "id": "9b8e5672",
   "metadata": {},
   "outputs": [
    {
     "data": {
      "text/plain": [
       "'stack is empty'"
      ]
     },
     "execution_count": 14,
     "metadata": {},
     "output_type": "execute_result"
    }
   ],
   "source": [
    "s.print_d()"
   ]
  },
  {
   "cell_type": "code",
   "execution_count": 15,
   "id": "8ec22832",
   "metadata": {},
   "outputs": [
    {
     "data": {
      "text/plain": [
       "'stack underflow'"
      ]
     },
     "execution_count": 15,
     "metadata": {},
     "output_type": "execute_result"
    }
   ],
   "source": [
    "s.pop()"
   ]
  },
  {
   "cell_type": "code",
   "execution_count": null,
   "id": "4e866f0b",
   "metadata": {},
   "outputs": [],
   "source": [
    "class Stack:\n",
    "    def __init__(self, size):\n",
    "        self.size = size\n",
    "        self.data = [0] * size\n",
    "        self.top = -1\n",
    "\n",
    "    def is_full(self):\n",
    "        return self.top >= self.size - 1  # Return True if the stack is full\n",
    "\n",
    "    def is_empty(self):\n",
    "        return self.top == -1  # Return True if the stack is empty\n",
    "\n",
    "    def push(self, item):\n",
    "        if self.is_full():\n",
    "            return \"stack overflow\"\n",
    "        self.top += 1\n",
    "        self.data[self.top] = item\n",
    "        return \"item pushed\"\n",
    "    \n",
    "    def pop(self):\n",
    "        if self.is_empty():\n",
    "            return \"stack underflow\"\n",
    "        popped_item = self.data[self.top]\n",
    "        self.top -= 1\n",
    "        return popped_item\n",
    "\n",
    "    def peek(self):\n",
    "        if self.is_empty():\n",
    "            return \"stack is empty\"\n",
    "        return self.data[self.top]\n",
    "\n",
    "\n",
    "    def print_d(self):\n",
    "        if self.is_empty():\n",
    "            return \"stack is empty\"\n",
    "        return self.data[:self.top + 1]  # Return elements up to the top of the stack"
   ]
  },
  {
   "cell_type": "code",
   "execution_count": 16,
   "id": "f8e77d9a",
   "metadata": {},
   "outputs": [],
   "source": [
    "s = Stack(3)"
   ]
  },
  {
   "cell_type": "code",
   "execution_count": 17,
   "id": "b4fd6562",
   "metadata": {},
   "outputs": [
    {
     "data": {
      "text/plain": [
       "'item pushed'"
      ]
     },
     "execution_count": 17,
     "metadata": {},
     "output_type": "execute_result"
    }
   ],
   "source": [
    "s.push(1)\n",
    "s.push(2)\n",
    "s.push(3)"
   ]
  },
  {
   "cell_type": "code",
   "execution_count": 18,
   "id": "08fce444",
   "metadata": {},
   "outputs": [
    {
     "data": {
      "text/plain": [
       "'stack overflow'"
      ]
     },
     "execution_count": 18,
     "metadata": {},
     "output_type": "execute_result"
    }
   ],
   "source": [
    "s.push(4)"
   ]
  },
  {
   "cell_type": "code",
   "execution_count": 19,
   "id": "20c82e3a",
   "metadata": {},
   "outputs": [
    {
     "data": {
      "text/plain": [
       "[1, 2, 3]"
      ]
     },
     "execution_count": 19,
     "metadata": {},
     "output_type": "execute_result"
    }
   ],
   "source": [
    "s.print_d()"
   ]
  },
  {
   "cell_type": "code",
   "execution_count": 20,
   "id": "e4d825ce",
   "metadata": {},
   "outputs": [
    {
     "data": {
      "text/plain": [
       "3"
      ]
     },
     "execution_count": 20,
     "metadata": {},
     "output_type": "execute_result"
    }
   ],
   "source": [
    "s.pop()"
   ]
  },
  {
   "cell_type": "code",
   "execution_count": 21,
   "id": "b8cbf059",
   "metadata": {},
   "outputs": [
    {
     "data": {
      "text/plain": [
       "[1, 2]"
      ]
     },
     "execution_count": 21,
     "metadata": {},
     "output_type": "execute_result"
    }
   ],
   "source": [
    "s.print_d()"
   ]
  },
  {
   "cell_type": "code",
   "execution_count": 22,
   "id": "51a6dca7",
   "metadata": {},
   "outputs": [
    {
     "data": {
      "text/plain": [
       "1"
      ]
     },
     "execution_count": 22,
     "metadata": {},
     "output_type": "execute_result"
    }
   ],
   "source": [
    "s.pop()\n",
    "s.pop()"
   ]
  },
  {
   "cell_type": "code",
   "execution_count": 23,
   "id": "9a9c8014",
   "metadata": {},
   "outputs": [
    {
     "data": {
      "text/plain": [
       "'stack is empty'"
      ]
     },
     "execution_count": 23,
     "metadata": {},
     "output_type": "execute_result"
    }
   ],
   "source": [
    "s.print_d()"
   ]
  },
  {
   "cell_type": "code",
   "execution_count": 24,
   "id": "5e01a1f1",
   "metadata": {},
   "outputs": [
    {
     "data": {
      "text/plain": [
       "'stack underflow'"
      ]
     },
     "execution_count": 24,
     "metadata": {},
     "output_type": "execute_result"
    }
   ],
   "source": [
    "s.pop()"
   ]
  },
  {
   "cell_type": "markdown",
   "id": "eaa076fd",
   "metadata": {},
   "source": [
    "## implementaion stack by linkedlist"
   ]
  },
  {
   "cell_type": "code",
   "execution_count": 31,
   "id": "4032ce4a",
   "metadata": {},
   "outputs": [],
   "source": [
    "class Node:\n",
    "    def __init__(self, data):\n",
    "        self.data = data\n",
    "        self.next = None\n",
    "\n",
    "class Stack:\n",
    "    def __init__(self):\n",
    "        self.top = None  # Top will point to the top node of the stack\n",
    "\n",
    "    def is_empty(self):\n",
    "        return self.top is None  # Stack is empty if top is None\n",
    "\n",
    "    def push(self, item):\n",
    "        new_node = Node(item)  # Create a new node\n",
    "        new_node.next = self.top  # Link the new node to the current top\n",
    "        self.top = new_node  # Update top to the new node\n",
    "        return \"item pushed\"\n",
    "\n",
    "    def pop(self):\n",
    "        if self.is_empty():\n",
    "            return \"stack underflow\"\n",
    "        popped_item = self.top.data  # Get the data of the top node\n",
    "        self.top = self.top.next  # Move the top pointer to the next node\n",
    "        return popped_item\n",
    "\n",
    "    def peek(self):\n",
    "        if self.is_empty():\n",
    "            return \"stack is empty\"\n",
    "        return self.top.data  # Return data of the top node\n",
    "\n",
    "    def print_stack(self):\n",
    "        if self.is_empty():\n",
    "            print(\"stack is empty\")\n",
    "            return\n",
    "        current = self.top\n",
    "        while current:\n",
    "            print(current.data)\n",
    "            current = current.next  # Return list of stack elements\n"
   ]
  },
  {
   "cell_type": "code",
   "execution_count": 32,
   "id": "d5f002fe",
   "metadata": {},
   "outputs": [],
   "source": [
    "s = Stack()"
   ]
  },
  {
   "cell_type": "code",
   "execution_count": 33,
   "id": "2b20b871",
   "metadata": {},
   "outputs": [
    {
     "data": {
      "text/plain": [
       "'item pushed'"
      ]
     },
     "execution_count": 33,
     "metadata": {},
     "output_type": "execute_result"
    }
   ],
   "source": [
    "s.push(10)"
   ]
  },
  {
   "cell_type": "code",
   "execution_count": 34,
   "id": "a71dc0cf",
   "metadata": {},
   "outputs": [
    {
     "name": "stdout",
     "output_type": "stream",
     "text": [
      "10\n"
     ]
    }
   ],
   "source": [
    "s.print_stack()"
   ]
  },
  {
   "cell_type": "code",
   "execution_count": 35,
   "id": "0dd0dfc5",
   "metadata": {},
   "outputs": [
    {
     "data": {
      "text/plain": [
       "'item pushed'"
      ]
     },
     "execution_count": 35,
     "metadata": {},
     "output_type": "execute_result"
    }
   ],
   "source": [
    "s.push(20)\n",
    "s.push(30)"
   ]
  },
  {
   "cell_type": "code",
   "execution_count": 36,
   "id": "ed30290d",
   "metadata": {},
   "outputs": [
    {
     "data": {
      "text/plain": [
       "'item pushed'"
      ]
     },
     "execution_count": 36,
     "metadata": {},
     "output_type": "execute_result"
    }
   ],
   "source": [
    "s.push(40)"
   ]
  },
  {
   "cell_type": "code",
   "execution_count": 37,
   "id": "1feee785",
   "metadata": {},
   "outputs": [
    {
     "name": "stdout",
     "output_type": "stream",
     "text": [
      "40\n",
      "30\n",
      "20\n",
      "10\n"
     ]
    }
   ],
   "source": [
    "s.print_stack()"
   ]
  },
  {
   "cell_type": "code",
   "execution_count": 38,
   "id": "230f5398",
   "metadata": {},
   "outputs": [
    {
     "data": {
      "text/plain": [
       "40"
      ]
     },
     "execution_count": 38,
     "metadata": {},
     "output_type": "execute_result"
    }
   ],
   "source": [
    "s.pop()"
   ]
  },
  {
   "cell_type": "code",
   "execution_count": 39,
   "id": "d918cf55",
   "metadata": {},
   "outputs": [
    {
     "name": "stdout",
     "output_type": "stream",
     "text": [
      "30\n",
      "20\n",
      "10\n"
     ]
    }
   ],
   "source": [
    "s.print_stack()"
   ]
  },
  {
   "cell_type": "code",
   "execution_count": 40,
   "id": "c191495b",
   "metadata": {},
   "outputs": [
    {
     "data": {
      "text/plain": [
       "30"
      ]
     },
     "execution_count": 40,
     "metadata": {},
     "output_type": "execute_result"
    }
   ],
   "source": [
    "s.peek()"
   ]
  },
  {
   "cell_type": "code",
   "execution_count": 41,
   "id": "ba4b7afd",
   "metadata": {},
   "outputs": [
    {
     "name": "stdout",
     "output_type": "stream",
     "text": [
      "30\n",
      "20\n",
      "10\n"
     ]
    }
   ],
   "source": [
    "s.print_stack()"
   ]
  },
  {
   "cell_type": "code",
   "execution_count": null,
   "id": "7b595e2c",
   "metadata": {},
   "outputs": [],
   "source": []
  }
 ],
 "metadata": {
  "kernelspec": {
   "display_name": "Python 3 (ipykernel)",
   "language": "python",
   "name": "python3"
  },
  "language_info": {
   "codemirror_mode": {
    "name": "ipython",
    "version": 3
   },
   "file_extension": ".py",
   "mimetype": "text/x-python",
   "name": "python",
   "nbconvert_exporter": "python",
   "pygments_lexer": "ipython3",
   "version": "3.9.12"
  }
 },
 "nbformat": 4,
 "nbformat_minor": 5
}

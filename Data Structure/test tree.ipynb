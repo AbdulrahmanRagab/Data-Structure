{
 "cells": [
  {
   "cell_type": "code",
   "execution_count": 1,
   "id": "7ec5bfd4",
   "metadata": {},
   "outputs": [],
   "source": [
    "class TreeNode:\n",
    "    def __init__(self,data):\n",
    "        self.data = data\n",
    "        self.leftchild = None\n",
    "        self.rightchild = None"
   ]
  },
  {
   "cell_type": "markdown",
   "id": "bee0b7a8",
   "metadata": {},
   "source": [
    "## Preorder traversal \n",
    "# (Root --> L --> R)\n",
    "1. We start traversing with the root node\n",
    "2. Next, we traverse the left subtree and call an ordering function with the left subtree recursively\n",
    "3. Next, we visit the right subtree and call an ordering function with the right subtree recursively\n",
    "\n",
    "![preorder Traversal](preorder.jpg)"
   ]
  },
  {
   "cell_type": "code",
   "execution_count": 12,
   "id": "aaabd281",
   "metadata": {},
   "outputs": [],
   "source": [
    "def preorderTraversal(rootNode):\n",
    "    if not rootNode:\n",
    "        return\n",
    "    print(rootNode.data)\n",
    "    preorderTraversal(rootNode.leftchild)\n",
    "    preorderTraversal(rootNode.rightchild)"
   ]
  },
  {
   "cell_type": "code",
   "execution_count": 30,
   "id": "8649d23e",
   "metadata": {},
   "outputs": [],
   "source": [
    "newBT = TreeNode(\"Drinks\")\n",
    "\n",
    "left = TreeNode(\"hot\")\n",
    "right = TreeNode(\"cold\")\n",
    "\n",
    "tea = TreeNode(\"tea\")\n",
    "coffe = TreeNode(\"coffe\")\n",
    "\n",
    "juice = TreeNode(\"juice\")\n",
    "cola = TreeNode(\"cola\")\n",
    "\n",
    "left.leftchild = tea\n",
    "left.rightchild = coffe\n",
    "\n",
    "right.leftchild = juice\n",
    "right.rightchild = cola\n",
    "\n",
    "newBT.leftchild = left\n",
    "newBT.rightchild = right\n",
    "\n"
   ]
  },
  {
   "cell_type": "code",
   "execution_count": 31,
   "id": "68c942c9",
   "metadata": {},
   "outputs": [
    {
     "name": "stdout",
     "output_type": "stream",
     "text": [
      "Drinks\n",
      "hot\n",
      "tea\n",
      "coffe\n",
      "cold\n",
      "juice\n",
      "cola\n"
     ]
    }
   ],
   "source": [
    "preorderTraversal(newBT)"
   ]
  },
  {
   "cell_type": "code",
   "execution_count": null,
   "id": "63b55984",
   "metadata": {},
   "outputs": [],
   "source": []
  },
  {
   "cell_type": "markdown",
   "id": "7a35177a",
   "metadata": {},
   "source": [
    "## Inorder traversal\n",
    "### L --> Root --> right\n",
    "1. We start traversing the left subtree and call an ordering function recursively\n",
    "2. Next, we visit the root node\n",
    "3. Finally, we traverse the right subtree and call an ordering function recursively\n",
    "\n",
    "![Inorder Traversal](inorder.jpg)"
   ]
  },
  {
   "cell_type": "markdown",
   "id": "118162de",
   "metadata": {},
   "source": []
  },
  {
   "cell_type": "code",
   "execution_count": 16,
   "id": "d2c302c1",
   "metadata": {},
   "outputs": [],
   "source": [
    "def inorderTraversal(rootNode):\n",
    "    if not rootNode:\n",
    "        return\n",
    "    inorderTraversal(rootNode.leftchild)\n",
    "    print(rootNode.data)\n",
    "    inorderTraversal(rootNode.rightchild)"
   ]
  },
  {
   "cell_type": "code",
   "execution_count": 17,
   "id": "13350ea9",
   "metadata": {},
   "outputs": [
    {
     "name": "stdout",
     "output_type": "stream",
     "text": [
      "tea\n",
      "hot\n",
      "coffe\n",
      "Drinks\n",
      "juice\n",
      "cold\n",
      "cola\n"
     ]
    }
   ],
   "source": [
    "inorderTraversal(newBT)"
   ]
  },
  {
   "cell_type": "code",
   "execution_count": null,
   "id": "0081b8d7",
   "metadata": {},
   "outputs": [],
   "source": []
  },
  {
   "cell_type": "markdown",
   "id": "13235b27",
   "metadata": {},
   "source": [
    "## Postorder traversal\n",
    "### L --> right --> Root\n",
    "1. We start traversing the left subtree and call an ordering function recursively\n",
    "2. Next, we traverse the right subtree and call an ordering function recursively\n",
    "3. Finally, we visit the root node\n",
    "\n",
    "![postorder Traversal](postorder.jpg)"
   ]
  },
  {
   "cell_type": "code",
   "execution_count": 23,
   "id": "7cc996e0",
   "metadata": {},
   "outputs": [],
   "source": [
    "def postorderTraversal(rootNode):\n",
    "    if not rootNode:\n",
    "        return\n",
    "    postorderTraversal(rootNode.leftchild)\n",
    "    postorderTraversal(rootNode.rightchild)\n",
    "    print(rootNode.data)"
   ]
  },
  {
   "cell_type": "code",
   "execution_count": 27,
   "id": "81629737",
   "metadata": {},
   "outputs": [
    {
     "name": "stdout",
     "output_type": "stream",
     "text": [
      "tea\n",
      "coffe\n",
      "hot\n",
      "juice\n",
      "cola\n",
      "cold\n",
      "Drinks\n"
     ]
    }
   ],
   "source": [
    "postorderTraversal(newBT)"
   ]
  },
  {
   "cell_type": "code",
   "execution_count": 32,
   "id": "ff91b25f",
   "metadata": {},
   "outputs": [],
   "source": [
    "import queue\n",
    "def levelorderTraversal(root_node):\n",
    "    if not root_node:\n",
    "        return\n",
    "    custom_queue = queue.Queue()\n",
    "    custom_queue.put(root_node)\n",
    "    while not custom_queue.empty():\n",
    "        root = custom_queue.get()\n",
    "        print(root.data)\n",
    "        \n",
    "        if root.leftchild is not None:\n",
    "            custom_queue.put(root.leftchild)\n",
    "        if root.rightchild is not None:\n",
    "            custom_queue.put(root.rightchild)"
   ]
  },
  {
   "cell_type": "code",
   "execution_count": 34,
   "id": "91c8c116",
   "metadata": {},
   "outputs": [],
   "source": [
    "root = TreeNode(4)\n",
    "root.leftchild = TreeNode(2)\n",
    "root.rightchild = TreeNode(8)\n",
    "\n",
    "root.leftchild.leftchild = TreeNode(1)\n",
    "root.leftchild.rightchild = TreeNode(3)\n",
    "\n",
    "root.rightchild.leftchild = TreeNode(6)\n",
    "root.rightchild.rightchild = TreeNode(9)\n"
   ]
  },
  {
   "cell_type": "code",
   "execution_count": 35,
   "id": "ac5aac87",
   "metadata": {},
   "outputs": [
    {
     "name": "stdout",
     "output_type": "stream",
     "text": [
      "4\n",
      "2\n",
      "8\n",
      "1\n",
      "3\n",
      "6\n",
      "9\n"
     ]
    }
   ],
   "source": [
    "levelorderTraversal(root)"
   ]
  },
  {
   "cell_type": "code",
   "execution_count": null,
   "id": "026ee8ca",
   "metadata": {},
   "outputs": [],
   "source": []
  },
  {
   "cell_type": "code",
   "execution_count": null,
   "id": "fda28254",
   "metadata": {},
   "outputs": [],
   "source": []
  },
  {
   "cell_type": "code",
   "execution_count": null,
   "id": "eb58d976",
   "metadata": {},
   "outputs": [],
   "source": []
  },
  {
   "cell_type": "code",
   "execution_count": null,
   "id": "b6664aa9",
   "metadata": {},
   "outputs": [],
   "source": []
  },
  {
   "cell_type": "code",
   "execution_count": null,
   "id": "aedd166c",
   "metadata": {},
   "outputs": [],
   "source": []
  },
  {
   "cell_type": "code",
   "execution_count": null,
   "id": "b27c9804",
   "metadata": {},
   "outputs": [],
   "source": []
  }
 ],
 "metadata": {
  "kernelspec": {
   "display_name": "Python 3 (ipykernel)",
   "language": "python",
   "name": "python3"
  },
  "language_info": {
   "codemirror_mode": {
    "name": "ipython",
    "version": 3
   },
   "file_extension": ".py",
   "mimetype": "text/x-python",
   "name": "python",
   "nbconvert_exporter": "python",
   "pygments_lexer": "ipython3",
   "version": "3.9.12"
  }
 },
 "nbformat": 4,
 "nbformat_minor": 5
}
